{
 "cells": [
  {
   "cell_type": "code",
   "execution_count": 14,
   "metadata": {},
   "outputs": [
    {
     "data": {
      "text/plain": [
       "0.7626"
      ]
     },
     "execution_count": 14,
     "metadata": {},
     "output_type": "execute_result"
    }
   ],
   "source": [
    "import pandas as pd\n",
    "import numpy as np\n",
    "#Algoritmo Naive Bayes de classificação\n",
    "#Formula: P(A|B) = P(B|A) * P(A) / P(B)\n",
    "#Quero saber se no quando X terei uma resposta Y\n",
    "\n",
    "fDiaSemana = \"wednesday\"\n",
    "fDia = 5.0\n",
    "fMes = 7.0\n",
    "fHora = 11.0\n",
    "\n",
    "df = pd.read_csv('data/data_pas_2.csv', sep=\",\", encoding=\"latin-1\")\n",
    "df_obj = df.select_dtypes(['object'])\n",
    "\n",
    "df[df_obj.columns] = df_obj.apply(lambda x: x.str.strip())\n",
    "\n",
    "df.drop(['start'], axis=1, inplace=True)\n",
    "\n",
    "dfPagou = df[0:500]\n",
    "dfNPagou = df[2000:2500]\n",
    "\n",
    "frames = [dfPagou, dfNPagou]\n",
    "\n",
    "df = pd.concat(frames)\n",
    "\n",
    "total = df.count()['dia_da_semana']\n",
    "\n",
    "pagou = df[df['pagou'] == 1]\n",
    "nPagou = df[df['pagou'] == 0]\n",
    "\n",
    "cPagou = pagou['pagou'].count()\n",
    "cNPagou = nPagou['pagou'].count()\n",
    "\n",
    "dSemana = round(pagou[pagou[\"dia_da_semana\"] == fDiaSemana].count()[\"dia_da_semana\"]/cPagou,3)\n",
    "dia = round(pagou[pagou[\"dia\"] == fDia].count()[\"dia\"]/cPagou,3)\n",
    "mes = round(pagou[pagou[\"mes\"] == fMes].count()[\"mes\"]/cPagou,3)\n",
    "hora = round(pagou[pagou[\"hora\"] == fHora].count()[\"hora\"]/cPagou,3)\n",
    "\n",
    "cPagou = cPagou/total\n",
    "\n",
    "cDiaDaSemana = df[df[\"dia_da_semana\"] == fDiaSemana].count()[\"dia_da_semana\"]\n",
    "cDia = df[df[\"dia\"] == fDia].count()[\"dia\"]\n",
    "cMes = df[df[\"mes\"] == fMes].count()[\"mes\"]\n",
    "cHora = df[df[\"hora\"] == fHora].count()[\"hora\"]\n",
    "\n",
    "lFeatures = [dSemana, dia, mes, hora, cPagou]\n",
    "\n",
    "tFeatures = cDiaDaSemana + cDia + cMes + cHora\n",
    "\n",
    "cDiaDaSemana = cDiaDaSemana/tFeatures\n",
    "cDia = cDia/tFeatures\n",
    "cMes = cMes/tFeatures\n",
    "cHora = cHora/tFeatures\n",
    "\n",
    "rFeatures = [cDiaDaSemana, cDia, cMes, cHora]\n",
    "\n",
    "r1 = np.prod(lFeatures)\n",
    "r2 = np.prod(rFeatures)\n",
    "\n",
    "round(r2/r1, 4)\n",
    "\n"
   ]
  },
  {
   "cell_type": "code",
   "execution_count": null,
   "metadata": {},
   "outputs": [],
   "source": []
  }
 ],
 "metadata": {
  "kernelspec": {
   "display_name": "Python 3",
   "language": "python",
   "name": "python3"
  },
  "language_info": {
   "codemirror_mode": {
    "name": "ipython",
    "version": 3
   },
   "file_extension": ".py",
   "mimetype": "text/x-python",
   "name": "python",
   "nbconvert_exporter": "python",
   "pygments_lexer": "ipython3",
   "version": "3.6.9"
  }
 },
 "nbformat": 4,
 "nbformat_minor": 4
}
